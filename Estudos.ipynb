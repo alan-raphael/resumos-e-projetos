{
  "cells": [
    {
      "cell_type": "markdown",
      "metadata": {
        "id": "HLbIVY7Pq566"
      },
      "source": [
        "**FizzBuzz**"
      ]
    },
    {
      "cell_type": "code",
      "execution_count": null,
      "metadata": {
        "colab": {
          "base_uri": "https://localhost:8080/"
        },
        "id": "YQJo2EY3fNRC",
        "outputId": "4d420712-7049-4f9e-cc93-b6af4192d206"
      },
      "outputs": [
        {
          "name": "stdout",
          "output_type": "stream",
          "text": [
            "1\n",
            "2\n",
            "Fizz\n",
            "4\n",
            "Buzz\n",
            "Fizz\n",
            "7\n",
            "8\n",
            "Fizz\n",
            "Buzz\n",
            "11\n",
            "Fizz\n",
            "13\n",
            "14\n",
            "FizzBuzz\n",
            "16\n",
            "17\n",
            "Fizz\n",
            "19\n",
            "Buzz\n",
            "Fizz\n",
            "22\n",
            "23\n",
            "Fizz\n",
            "Buzz\n",
            "26\n",
            "Fizz\n",
            "28\n",
            "29\n",
            "FizzBuzz\n",
            "31\n",
            "32\n",
            "Fizz\n",
            "34\n",
            "Buzz\n",
            "Fizz\n",
            "37\n",
            "38\n",
            "Fizz\n",
            "Buzz\n",
            "41\n",
            "Fizz\n",
            "43\n",
            "44\n",
            "FizzBuzz\n",
            "46\n",
            "47\n",
            "Fizz\n",
            "49\n",
            "Buzz\n",
            "Fizz\n",
            "52\n",
            "53\n",
            "Fizz\n",
            "Buzz\n",
            "56\n",
            "Fizz\n",
            "58\n",
            "59\n",
            "FizzBuzz\n",
            "61\n",
            "62\n",
            "Fizz\n",
            "64\n",
            "Buzz\n",
            "Fizz\n",
            "67\n",
            "68\n",
            "Fizz\n",
            "Buzz\n",
            "71\n",
            "Fizz\n",
            "73\n",
            "74\n",
            "FizzBuzz\n",
            "76\n",
            "77\n",
            "Fizz\n",
            "79\n",
            "Buzz\n",
            "Fizz\n",
            "82\n",
            "83\n",
            "Fizz\n",
            "Buzz\n",
            "86\n",
            "Fizz\n",
            "88\n",
            "89\n",
            "FizzBuzz\n",
            "91\n",
            "92\n",
            "Fizz\n",
            "94\n",
            "Buzz\n",
            "Fizz\n",
            "97\n",
            "98\n",
            "Fizz\n",
            "Buzz\n"
          ]
        }
      ],
      "source": [
        "for i in range (1, 101):\n",
        "  print((i%3==0)*'Fizz'+(i%5==0)*'Buzz' or i)"
      ]
    },
    {
      "cell_type": "markdown",
      "metadata": {
        "id": "mN0dxcRdq_eB"
      },
      "source": [
        "**List** **compreension**"
      ]
    },
    {
      "cell_type": "code",
      "execution_count": null,
      "metadata": {
        "colab": {
          "base_uri": "https://localhost:8080/"
        },
        "id": "PNr2jU19g2-6",
        "outputId": "00a4a7a8-9952-416a-85ee-e6293d7a706d"
      },
      "outputs": [
        {
          "name": "stdout",
          "output_type": "stream",
          "text": [
            "2550\n"
          ]
        }
      ],
      "source": [
        "lista = [x for x in range (1, 101) if x%2==0]\n",
        "\n",
        "\n",
        "\n",
        "\n",
        "\n",
        "print(sum(lista))"
      ]
    },
    {
      "cell_type": "markdown",
      "metadata": {
        "id": "dcrJvx7wkOs_"
      },
      "source": [
        "**EXERCÍCIOS COM PALAVRAS:**"
      ]
    },
    {
      "cell_type": "code",
      "execution_count": null,
      "metadata": {
        "colab": {
          "base_uri": "https://localhost:8080/"
        },
        "id": "ykVBmXwefQPn",
        "outputId": "d7c15eeb-fed7-44a3-8b8c-3370b63639a2"
      },
      "outputs": [
        {
          "name": "stdout",
          "output_type": "stream",
          "text": [
            "['l', 't', 'a', 'p', 'c', 'c', 'a', 'l', 'c']\n",
            "l\n",
            "t\n",
            "a\n",
            "p\n",
            "c\n",
            "c\n",
            "a\n",
            "l\n",
            "c\n",
            "começadas\n",
            "com\n",
            "c\n",
            "a palavra as tem num de letras par\n",
            "a palavra palavras tem num de letras par\n"
          ]
        }
      ],
      "source": [
        "from re import split\n",
        "frase = 'liste todas as palavras começadas com a letra c'\n",
        "split_f=frase.split()\n",
        "\n",
        "\n",
        "list=[p[0] for p in split_f ]\n",
        "print(list)\n",
        "\n",
        "for palavra in split_f:\n",
        "  print (palavra[0])\n",
        "\n",
        "for palavra in split_f:\n",
        "  if palavra[0] == 'c':\n",
        "    print (palavra)\n",
        "\n",
        "for palavra in split_f:\n",
        "  if len(palavra)%2==0:\n",
        "    print(f'a palavra {palavra} tem num de letras par')"
      ]
    },
    {
      "cell_type": "markdown",
      "metadata": {
        "id": "9YqN03uprfIz"
      },
      "source": [
        "**Funções:**\n",
        "\n",
        "\n",
        "\n"
      ]
    },
    {
      "cell_type": "code",
      "execution_count": null,
      "metadata": {
        "colab": {
          "base_uri": "https://localhost:8080/"
        },
        "id": "eMrf9c6ErmWJ",
        "outputId": "b0924d87-cd72-4bd6-c78a-8ad5d211626f"
      },
      "outputs": [
        {
          "name": "stdout",
          "output_type": "stream",
          "text": [
            "o numero 8 não é primo\n"
          ]
        }
      ],
      "source": [
        "def primo (n):\n",
        "  #definição da função:\n",
        "  \"\"\"\n",
        "  Verifica se o numero inserido é primo ou não\n",
        "  \"\"\"\n",
        "  for i in range (2, n):\n",
        "    if n%i == 0:\n",
        "      print(f'o numero {n} não é primo')\n",
        "      break\n",
        "    else:\n",
        "      print(f'o número {n} é primo')\n",
        "      break\n",
        "\n",
        "\n",
        "help"
      ]
    },
    {
      "cell_type": "markdown",
      "metadata": {
        "id": "XT3ssctAEeSf"
      },
      "source": [
        "**MÉTODO:**\n",
        "  funções que estao dentro de objetos"
      ]
    },
    {
      "cell_type": "code",
      "execution_count": null,
      "metadata": {
        "colab": {
          "base_uri": "https://localhost:8080/"
        },
        "id": "x2PoEc9bEx8B",
        "outputId": "ee59cd89-256c-456b-820c-2e498469707f"
      },
      "outputs": [
        {
          "name": "stdout",
          "output_type": "stream",
          "text": [
            "1\n",
            "Help on built-in function append:\n",
            "\n",
            "append(object, /) method of builtins.list instance\n",
            "    Append object to the end of the list.\n",
            "\n"
          ]
        }
      ],
      "source": [
        "lista = [1,2,3,4,5,6]\n",
        "#no método, usamos o objeto seguido de um ponto, como por exemplo:\n",
        "print(lista.index(2))\n",
        "#é um método que retorna o valor correspondente aquele index em uma lista\n",
        "\n",
        "#A função help, mostra como o método pode ser utilizada,\n",
        "help(lista.append)"
      ]
    },
    {
      "cell_type": "markdown",
      "metadata": {
        "id": "pC_QGs6UHQPP"
      },
      "source": [
        "**LAMBDA:** função sem nome, feita em 1 linha"
      ]
    },
    {
      "cell_type": "code",
      "execution_count": null,
      "metadata": {
        "colab": {
          "base_uri": "https://localhost:8080/",
          "height": 53
        },
        "id": "ak38QgwQHeaz",
        "outputId": "a694583d-1160-4a29-d4c2-684ad32d9a32"
      },
      "outputs": [
        {
          "name": "stdout",
          "output_type": "stream",
          "text": [
            "True\n"
          ]
        },
        {
          "data": {
            "application/vnd.google.colaboratory.intrinsic+json": {
              "type": "string"
            },
            "text/plain": [
              "'?meb odut ,alo'"
            ]
          },
          "execution_count": 58,
          "metadata": {},
          "output_type": "execute_result"
        }
      ],
      "source": [
        "#testa se um numero é par:\n",
        "par = lambda x: x%2==0\n",
        "print(par(2))\n",
        "\n",
        "#inverte a string:\n",
        "inverte = lambda y: y[::-1]\n",
        "\n",
        "inverte ('ola, tudo bem?')"
      ]
    },
    {
      "cell_type": "markdown",
      "metadata": {
        "id": "xGQ3wQP_IqRw"
      },
      "source": [
        "**Regra LEGB**\n",
        "1. Local: lambda, por exemplo;\n",
        "2. Enclosing functions locals: encapsuladas em funções locais;\n",
        "3. Global: Nomes atribuidos em níveis superiores;\n",
        "4. Built-in:Nomes pré atribuidos em módulos."
      ]
    },
    {
      "cell_type": "code",
      "execution_count": null,
      "metadata": {
        "colab": {
          "base_uri": "https://localhost:8080/"
        },
        "id": "Qoq2KafZJ589",
        "outputId": "b20dc631-cf80-4fe0-b41b-95ccf267ec24"
      },
      "outputs": [
        {
          "name": "stdout",
          "output_type": "stream",
          "text": [
            "False\n"
          ]
        }
      ],
      "source": [
        "#Retorna pangrama:\n",
        "\n",
        "import string\n",
        "ab = string.ascii_lowercase\n",
        "\n",
        "def pangram(strr, ab):\n",
        "  letter=0\n",
        "  for i in ab:\n",
        "    if i in strr:\n",
        "      letter +=1\n",
        "  return letter == len(ab)\n",
        "\n",
        "print(pangram('abcdefghijklmnopqrstuvxwyz', ab))"
      ]
    },
    {
      "cell_type": "markdown",
      "metadata": {
        "id": "10KuIvWknz5z"
      },
      "source": [
        "**OOP:**\n",
        "\n",
        "- Objeto: Em python tudo é um objeto, podemos usar type(), para identificar qual a classe do objeto (quando definimos uma variável, podemos dizer que ela é uma instancia (copia) de uma classe, l = [1, 2, 3, 4], é um objeto da classe list, por exemplo);\n",
        "- Classes: Os objetos definidos pelo usuário são criados utilizando a palavra chave class, dessa forma definimos a qual classe esse objeto pertence;\n",
        "- Métodos: Os objetos, possuem métodos, que são funcionalidades intrinsecas as suas classe (por exemplo: l.copy, l.append, etc).\n",
        "\n",
        "\n",
        "Herança: é possível herdar métodos de outras classes, basta substituir o class xxx(object), por class xxx( *classe de quem se quer herdar os métodos* )."
      ]
    },
    {
      "cell_type": "code",
      "execution_count": null,
      "metadata": {
        "colab": {
          "base_uri": "https://localhost:8080/"
        },
        "id": "vid3uf3KHkuz",
        "outputId": "3ea92538-5605-4f80-e9cc-828a9646be09"
      },
      "outputs": [
        {
          "name": "stdout",
          "output_type": "stream",
          "text": [
            "4\n",
            "1\n",
            "7850.0\n"
          ]
        }
      ],
      "source": [
        "class circulo(object):\n",
        "  pi = 3.14\n",
        "\n",
        "  def __init__(self, raio = 1):\n",
        "    self.raio = raio\n",
        "    print(raio)\n",
        "\n",
        "  def area(self):\n",
        "    return self.raio ** 2 * self.pi\n",
        "\n",
        "# Nas funções, com o self. é possivel utilizar variáveis da classe,\n",
        "# Enquanto sem o self. usamos variáveis locais\n",
        "\n",
        "  def area1(self, raio):\n",
        "    return raio ** 2 * self.pi\n",
        "\n",
        "  def nraio(self, raio):\n",
        "    self.raio = raio\n",
        "\n",
        "\n",
        "\n",
        "b = circulo(4)\n",
        "a = circulo().area()\n",
        "\n",
        "b.nraio(0)\n",
        "print(b.area1(50))\n"
      ]
    },
    {
      "cell_type": "markdown",
      "metadata": {
        "id": "dUd-EzZ3Kuf9"
      },
      "source": [
        "**Métodos especiais:**"
      ]
    },
    {
      "cell_type": "code",
      "execution_count": null,
      "metadata": {
        "colab": {
          "base_uri": "https://localhost:8080/"
        },
        "id": "pDy8lYfYLBkE",
        "outputId": "0fb36caf-ddd3-42c6-a7c1-09acbb1add4d"
      },
      "outputs": [
        {
          "name": "stdout",
          "output_type": "stream",
          "text": [
            "um livro foi criado\n",
            "o título é python\n"
          ]
        }
      ],
      "source": [
        "class Book(object):\n",
        "  def __init__(self, titulo, autor, pag):\n",
        "    print('um livro foi criado')\n",
        "    self.titulo = titulo\n",
        "    self.autor = autor\n",
        "    self.pag = pag\n",
        "\n",
        "  def __str__(self):\n",
        "    return f'o título é {self.titulo}'\n",
        "\n",
        "  def __len__(self):\n",
        "    return self.pag\n",
        "\n",
        "  def __delattr__(self, __name: str):\n",
        "    print('o livro foi apagado')\n",
        "\n",
        "\n",
        "livro1 = Book('python', 'Alan', 120)\n",
        "\n",
        "print(livro1)\n"
      ]
    },
    {
      "cell_type": "markdown",
      "metadata": {
        "id": "fgN4284nHLJy"
      },
      "source": [
        "**Exercício 1:** criar uma classe 'cilindro', com funções que calculam a area de superfície e o seu volume.\n",
        "**Exercício 2:** criar uma classe 'linha', com funções que calculam a distancia entre 2 pontos com base em suas coordenadas."
      ]
    },
    {
      "cell_type": "code",
      "execution_count": null,
      "metadata": {
        "colab": {
          "base_uri": "https://localhost:8080/"
        },
        "id": "JHmgIn3QJPEu",
        "outputId": "4bf0983e-2fea-46ed-a76c-ea9571b17a1b"
      },
      "outputs": [
        {
          "name": "stdout",
          "output_type": "stream",
          "text": [
            "0.0\n"
          ]
        }
      ],
      "source": [
        "#exercicio1:\n",
        "\n",
        "class cilindro(object):\n",
        "  pi = 3.14\n",
        "  def __init__(self, raio, altura):\n",
        "    pass\n",
        "  def volume(self):\n",
        "    pass\n",
        "  def area(self):\n",
        "    pass\n",
        "\n",
        "\n",
        "\n",
        "## Exercício 2:\n",
        "\n",
        "class linha(object):\n",
        "  def __init__(self, c1, c2):\n",
        "    self.c1 = c1\n",
        "    self.c2 = c2\n",
        "\n",
        "  def distance(self):\n",
        "    x1, y1 = self.c1\n",
        "    x2, y2 = self.c2\n",
        "\n",
        "    return ((y2-y1)**2 + (x2-x1)**2)**0.5\n",
        "\n",
        "\n",
        "co1 = (1, 2)\n",
        "co2 = (1, 2)\n",
        "line1 = linha(co1, co2)\n",
        "\n",
        "print(line1.distance())\n",
        "\n",
        "\n"
      ]
    },
    {
      "cell_type": "code",
      "execution_count": null,
      "metadata": {
        "colab": {
          "base_uri": "https://localhost:8080/"
        },
        "id": "-0niQ9dnSeD5",
        "outputId": "25045a69-5ad6-4572-dc12-9bd2c641fdf7"
      },
      "outputs": [
        {
          "name": "stdout",
          "output_type": "stream",
          "text": [
            "insira um numero inteiro2\n",
            "O numero ao quadrado é: 4\n"
          ]
        }
      ],
      "source": [
        "# Usando try e except em um loop:\n",
        "def elevado():\n",
        "\n",
        "  while True:\n",
        "    try:\n",
        "      n = float(input('insira um numero: '))\n",
        "      print(f'O numero ao quadrado é: {n**2}')\n",
        "      break\n",
        "    except:\n",
        "      print('não é um valor válido')\n",
        "      continue\n",
        "\n",
        "elevado()"
      ]
    }
  ],
  "metadata": {
    "colab": {
      "provenance": []
    },
    "kernelspec": {
      "display_name": "Python 3",
      "name": "python3"
    },
    "language_info": {
      "name": "python"
    }
  },
  "nbformat": 4,
  "nbformat_minor": 0
}
